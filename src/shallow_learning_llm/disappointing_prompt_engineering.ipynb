{
 "cells": [
  {
   "cell_type": "markdown",
   "metadata": {},
   "source": [
    "# 令人失望的提示词工程\n"
   ]
  },
  {
   "cell_type": "markdown",
   "metadata": {},
   "source": [
    "[面向开发者的 LLM 入门课程](https://datawhalechina.github.io/prompt-engineering-for-developers/#/C1/2.%20%E6%8F%90%E7%A4%BA%E5%8E%9F%E5%88%99%20Guidelines?id=%e4%b8%80%e3%80%81%e5%8e%9f%e5%88%99%e4%b8%80-%e7%bc%96%e5%86%99%e6%b8%85%e6%99%b0%e3%80%81%e5%85%b7%e4%bd%93%e7%9a%84%e6%8c%87%e4%bb%a4)\n",
    "\n",
    "[OpenAI Prompt engineering](https://platform.openai.com/docs/guides/prompt-engineering)\n"
   ]
  }
 ],
 "metadata": {
  "language_info": {
   "name": "python"
  }
 },
 "nbformat": 4,
 "nbformat_minor": 2
}
