{
 "cells": [
  {
   "cell_type": "markdown",
   "metadata": {},
   "source": [
    "# GPT 提示词工程\n"
   ]
  },
  {
   "cell_type": "markdown",
   "metadata": {},
   "source": [
    "## 六种提示词优化策略\n"
   ]
  },
  {
   "cell_type": "markdown",
   "metadata": {},
   "source": [
    "### 指令清晰明确\n",
    "\n",
    "不要让大模型猜测你想要什么，它做不到。明确的告诉大模型你想要什么，它需要做什么。\n",
    "\n",
    "**详细描述你的需求**\n",
    "\n",
    "❎ “编写代码来计算斐波那契数列。”\n",
    "\n",
    "✅ “编写一个 TypeScript 函数来有效地计算斐波那契数列。对代码进行大量注释，以解释每个部分的作用以及为什么这样编写。”\n",
    "\n",
    "**会用分隔符**\n"
   ]
  },
  {
   "cell_type": "code",
   "execution_count": 1,
   "metadata": {},
   "outputs": [
    {
     "name": "stdout",
     "output_type": "stream",
     "text": [
      "\n",
      "以```包裹的文本为标题虚构一篇短文。\n",
      "\n",
      "输出结果格式为：\n",
      "标题：《在此处插入标题》\n",
      "摘要：在此处插入摘要\n",
      "作者：在此处插入作者名\n",
      "\n",
      "```枣树```\n",
      "\n"
     ]
    }
   ],
   "source": [
    "title = \"枣树\"\n",
    "\n",
    "prompt = f\"\"\"\n",
    "以```包裹的文本为标题虚构一篇短文。\n",
    "\n",
    "输出结果格式为：\n",
    "标题：《在此处插入标题》\n",
    "摘要：在此处插入摘要\n",
    "作者：在此处插入作者名\n",
    "\n",
    "```{title}```\n",
    "\"\"\"\n",
    "\n",
    "print(prompt)"
   ]
  },
  {
   "cell_type": "markdown",
   "metadata": {},
   "source": [
    "**分步执行**\n"
   ]
  },
  {
   "cell_type": "code",
   "execution_count": 2,
   "metadata": {},
   "outputs": [
    {
     "name": "stdout",
     "output_type": "stream",
     "text": [
      "\n",
      "使用分步结构输出 step-by-step：\n",
      "1：用户将为您提供三引号中的文本。用一句话总结这段文字，前缀是“摘要：”。\n",
      "2：将 1 中的摘要翻译成日语，前缀为“翻译：”。\n",
      "\n",
      "\"\"\"在我的后园，可以看见墙外有两株树，一株是枣树，还有一株也是枣树。这上面的夜的天空，奇怪而高，我生平没有见过这样奇怪而高的天空，他仿佛要离开人间而去，使人们仰面不再看见。\"\"\"\n",
      "\n"
     ]
    }
   ],
   "source": [
    "text = \"在我的后园，可以看见墙外有两株树，一株是枣树，还有一株也是枣树。\\\n",
    "这上面的夜的天空，奇怪而高，我生平没有见过这样奇怪而高的天空，他仿佛要离开人间而去，使人们仰面不再看见。\"\n",
    "\n",
    "prompt = f\"\"\"\n",
    "使用分步结构输出 step-by-step：\n",
    "1：用户将为您提供三引号中的文本。用一句话总结这段文字，前缀是“摘要：”。\n",
    "2：将 1 中的摘要翻译成日语，前缀为“翻译：”。\n",
    "\n",
    "\\\"\\\"\\\"{text}\\\"\\\"\\\"\n",
    "\"\"\"\n",
    "\n",
    "print(prompt)"
   ]
  },
  {
   "cell_type": "markdown",
   "metadata": {},
   "source": [
    "**few-shot prompting**\n"
   ]
  },
  {
   "cell_type": "markdown",
   "metadata": {},
   "source": [
    "### 提供参考文本\n",
    "\n",
    "减少大模型胡编乱造。\n"
   ]
  },
  {
   "cell_type": "markdown",
   "metadata": {},
   "source": [
    "### 任务拆解\n",
    "\n",
    "将大任务拆为小任务。\n"
   ]
  },
  {
   "cell_type": "markdown",
   "metadata": {},
   "source": [
    "### 给 GPT 时间思考\n",
    "\n",
    "依靠思维链让大模型按步推理。\n"
   ]
  },
  {
   "cell_type": "markdown",
   "metadata": {},
   "source": [
    "### 使用外部工具\n",
    "\n",
    "使用外部工具弥补或增强模型能力。\n"
   ]
  },
  {
   "cell_type": "markdown",
   "metadata": {},
   "source": [
    "### 系统测试\n",
    "\n",
    "评估模型输出。\n"
   ]
  },
  {
   "cell_type": "code",
   "execution_count": 1,
   "metadata": {},
   "outputs": [
    {
     "data": {
      "text/plain": [
       "'您好！有什么我可以帮助您的吗？'"
      ]
     },
     "execution_count": 1,
     "metadata": {},
     "output_type": "execute_result"
    }
   ],
   "source": [
    "from shallow_learning_llm.tools.completion import get_completion\n",
    "\n",
    "\n",
    "get_completion(\"你好\")"
   ]
  }
 ],
 "metadata": {
  "kernelspec": {
   "display_name": ".venv",
   "language": "python",
   "name": "python3"
  },
  "language_info": {
   "codemirror_mode": {
    "name": "ipython",
    "version": 3
   },
   "file_extension": ".py",
   "mimetype": "text/x-python",
   "name": "python",
   "nbconvert_exporter": "python",
   "pygments_lexer": "ipython3",
   "version": "3.10.6"
  }
 },
 "nbformat": 4,
 "nbformat_minor": 2
}
