{
 "cells": [
  {
   "cell_type": "markdown",
   "metadata": {},
   "source": [
    "# GPT 提示词工程\n"
   ]
  },
  {
   "cell_type": "markdown",
   "metadata": {},
   "source": [
    "## 指令清晰明确\n",
    "\n",
    "不要让大模型猜测你想要什么，它做不到。明确的告诉大模型你想要什么，你想要它做什么。\n",
    "\n",
    "**1. 详细描述你的需求**\n",
    "\n",
    "~~“编写代码来计算斐波那契数列。”~~\n",
    "\n",
    "“编写一个 TypeScript 函数来有效地计算斐波那契数列。对代码进行大量注释，以解释每个部分的作用以及为什么这样编写。”\n",
    "\n",
    "**2. 善用分隔符**\n",
    "\n",
    "使用 ` ``` `、`\"\"\"`、`< >`、`<tag> </tag>`、`:` 等分隔符将具有不同作用 / 含义的文字分隔开，避免提示词注入。\n",
    "\n",
    "> 提示词注入：指用户输入污染了开发者预设提示词，使输出结果不可控。\n"
   ]
  },
  {
   "cell_type": "code",
   "execution_count": 5,
   "metadata": {},
   "outputs": [],
   "source": [
    "from shallow_learning_llm.tools.chatgpt import completion"
   ]
  },
  {
   "cell_type": "code",
   "execution_count": 6,
   "metadata": {},
   "outputs": [
    {
     "name": "stdout",
     "output_type": "stream",
     "text": [
      "420\n",
      "记忆中的晚霞，总是让我感到无比的美丽和温暖。那是一个夏日的傍晚，我和家人一起在海边散步。太阳已经慢慢地落下，天空渐渐地染上了一层淡淡的橙色。海面上的波浪也变得温柔起来，仿佛在为太阳的离去送行。\n",
      "\n",
      "我停下了脚步，仰望着天空。那一刻，我看到了最美的晚霞。天空中的云朵被染成了一片金黄色，像是被太阳的余辉所照耀。在那片金黄色的云朵中，还有一些淡淡的粉色和紫色，像是画家在天空中随意地挥洒着颜料。\n",
      "\n",
      "我感到自己的心灵被晚霞所触动，仿佛被一股温暖的力量所包围。我想起了小时候，每当看到晚霞时，我总是会跑到父母的身边，问他们晚霞是怎么形成的。他们会告诉我，晚霞是太阳的余辉，是天空中的云朵被照耀的结果。我会感到无比的好奇和惊奇，仿佛看到了一个神奇的世界。\n",
      "\n",
      "现在，我已经长大了，但是晚霞依然是我心中最美的记忆。每当我看到晚霞时，我总是会想起小时候的自己，想起那些美好的时光。晚霞让我感到生命的美好和温暖，让我相信世界上还有很多美好的事物等待着我去发现。\n"
     ]
    }
   ],
   "source": [
    "text = \"记忆中的晚霞\"\n",
    "\n",
    "prompt = f\"\"\"\n",
    "以```中的文字为标题写一篇散文，不超过 300 字。\n",
    "\n",
    "```{text}```\n",
    "\"\"\"\n",
    "\n",
    "res = completion(prompt)\n",
    "print(len(res))\n",
    "print(res)"
   ]
  },
  {
   "cell_type": "markdown",
   "metadata": {},
   "source": [
    "**3. 结构化输出 & 条件判断**\n",
    "\n",
    "让大模型输出 JSON、HTML 等便于程序处理的数据格式。\n"
   ]
  },
  {
   "cell_type": "code",
   "execution_count": 7,
   "metadata": {},
   "outputs": [
    {
     "name": "stdout",
     "output_type": "stream",
     "text": [
      "[{\n",
      "    \"origin\": \"中国\",\n",
      "    \"descr\": \"苹果是一种常见的水果，味甜多汁，营养丰富，含有丰富的维生素和矿物质。\"\n",
      "},\n",
      "{\n",
      "    \"origin\": \"欧洲\",\n",
      "    \"descr\": \"葡萄是一种常见的水果，味甜多汁，营养丰富，含有丰富的维生素和矿物质。\"\n",
      "}]\n"
     ]
    }
   ],
   "source": [
    "food1 = \"披萨\"\n",
    "food2 = \"苹果，葡萄\"\n",
    "\n",
    "prompt = f\"\"\"\n",
    "如果```中的文字是水果，那么输出它的主要产地和描述信息。\n",
    "输出结果是 JSON，格式如下：\n",
    "[{{\n",
    "    \"origin\": 插入主要产地,\n",
    "    \"descr\": 插入描述信息\n",
    "}}]\n",
    "否则输出空值 None。\n",
    "```{food2}```\n",
    "\"\"\"\n",
    "\n",
    "print(completion(prompt))"
   ]
  },
  {
   "cell_type": "markdown",
   "metadata": {},
   "source": [
    "**分步执行**\n",
    "\n",
    "拆解任务、分步执行。\n"
   ]
  },
  {
   "cell_type": "code",
   "execution_count": 8,
   "metadata": {},
   "outputs": [
    {
     "name": "stdout",
     "output_type": "stream",
     "text": [
      "摘要：在后园看到两株枣树，夜空奇怪高，仿佛要离开人间。\n",
      "翻译：私の庭には、外の壁に2本の木が見えます。1本はナツメヤシの木で、もう1本はナツメヤシの木です。この上の夜空は奇妙で高く、私はこれほど奇妙で高い空を見たことがありません。それは人間界を離れて、人々がもう顔を上げて見なくてもよいようにするようです。\n"
     ]
    }
   ],
   "source": [
    "text = \"在我的后园，可以看见墙外有两株树，一株是枣树，还有一株也是枣树。\\\n",
    "这上面的夜的天空，奇怪而高，我生平没有见过这样奇怪而高的天空，他仿佛要离开人间而去，使人们仰面不再看见。\"\n",
    "\n",
    "prompt = f\"\"\"\n",
    "分步执行以下操作：\n",
    "步骤一：一句话总结```中的文字，并添加前缀“摘要：”。\n",
    "步骤二：将步骤一中的摘要翻译成日语，并添加前缀“翻译：”。\n",
    "\n",
    "```{text}```\n",
    "\"\"\"\n",
    "\n",
    "print(completion(prompt))"
   ]
  }
 ],
 "metadata": {
  "kernelspec": {
   "display_name": "Python 3 (ipykernel)",
   "language": "python",
   "name": "python3"
  },
  "language_info": {
   "codemirror_mode": {
    "name": "ipython",
    "version": 3
   },
   "file_extension": ".py",
   "mimetype": "text/x-python",
   "name": "python",
   "nbconvert_exporter": "python",
   "pygments_lexer": "ipython3",
   "version": "3.10.6"
  }
 },
 "nbformat": 4,
 "nbformat_minor": 4
}
