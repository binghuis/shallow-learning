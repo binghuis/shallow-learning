{
 "cells": [
  {
   "cell_type": "markdown",
   "metadata": {},
   "source": [
    "# GPT 提示词工程\n"
   ]
  },
  {
   "cell_type": "markdown",
   "metadata": {},
   "source": [
    "## 指令清晰明确\n",
    "\n",
    "不要让大模型猜测你想要什么，它做不到。明确的告诉大模型你想要什么，它需要做什么。\n",
    "\n",
    "**1. 详细描述你的需求**\n",
    "\n",
    "~~“编写代码来计算斐波那契数列。”~~\n",
    "\n",
    "“编写一个 TypeScript 函数来有效地计算斐波那契数列。对代码进行大量注释，以解释每个部分的作用以及为什么这样编写。”\n",
    "\n",
    "**2. 善用分隔符**\n",
    "\n",
    "使用 ` ```，\"\"\"，< >，<tag> </tag>，: ` 等分隔符将具有不同作用/含义的文字分隔开，避免提示词注入。\n",
    "\n",
    "> 提示词注入：指用户输入污染了开发者预设提示词，使输出结果不可控。\n"
   ]
  },
  {
   "cell_type": "code",
   "execution_count": 57,
   "metadata": {},
   "outputs": [],
   "source": [
    "from shallow_learning_llm.tools.chat import completion"
   ]
  },
  {
   "cell_type": "code",
   "execution_count": 58,
   "metadata": {},
   "outputs": [
    {
     "name": "stdout",
     "output_type": "stream",
     "text": [
      "305\n",
      "记忆中的晚霞，如一幅美妙的画卷，展现着大自然最美的一面。在我小时候，每当晚上的太阳开始渐渐落下，晚霞就会悄悄出现在天空中。\n",
      "\n",
      "那时，我常常会被晚霞所吸引，凝望着这一幕壮丽的景象。红色、橙色、黄色和紫色的云层交相辉映，将整个天空染成一片绚丽的彩色。晚霞的美丽和光芒，让我感到神奇和欢快。这时，我常常感叹大自然的鬼斧神工。\n",
      "\n",
      "随着时间的流逝，我慢慢长大，感受到了岁月的沉淀和生命的变迁。而记忆中的晚霞，却一直保存着那份美好。即使在今天，每当我看到晚霞的美景，我依然会感到心灵的激动和震撼。\n",
      "\n",
      "记忆中的晚霞，是我做梦时最美丽的场景。它让我感到这个世界的美好和温暖。它将时光定格在那些最美好的岁月，时光如画，难以忘怀。\n"
     ]
    }
   ],
   "source": [
    "text = \"记忆中的晚霞\"\n",
    "\n",
    "prompt = f\"\"\"\n",
    "以```中的文字为标题写一篇散文，字数不超过 200。\n",
    "\n",
    "```{text}```\n",
    "\"\"\"\n",
    "\n",
    "res = completion(prompt)\n",
    "print(len(res))\n",
    "print(res)"
   ]
  },
  {
   "cell_type": "markdown",
   "metadata": {},
   "source": [
    "**3. 结构化输出 & 条件判断**\n",
    "\n",
    "让大模型输出 JSON、HTML 等便于程序处理的数据格式。\n"
   ]
  },
  {
   "cell_type": "code",
   "execution_count": 63,
   "metadata": {},
   "outputs": [
    {
     "name": "stdout",
     "output_type": "stream",
     "text": [
      "[{\n",
      "    \"origin\": \"中国\",\n",
      "    \"descr\": \"苹果是一种非常受欢迎的水果，有着红、黄、绿等多种颜色，甜味具有酸甜可口的特点。\"\n",
      "}, {\n",
      "    \"origin\": \"欧洲\",\n",
      "    \"descr\": \"葡萄是一种传统水果，有着紫、红、绿等多种颜色，味道酸甜可口，被用来酿造葡萄酒。\"\n",
      "}]\n"
     ]
    }
   ],
   "source": [
    "food1 = \"披萨\"\n",
    "food2 = \"苹果，葡萄\"\n",
    "prompt = f\"\"\"\n",
    "如果```中的文字是水果，那么输出它的主要产地和描述信息。\n",
    "输出结果是 JSON，格式如下：\n",
    "[{{\n",
    "    \"origin\": 插入主要产地,\n",
    "    \"descr\": 插入描述信息\n",
    "}}]\n",
    "否则输出空值 None。\n",
    "```{food2}```\n",
    "\"\"\"\n",
    "\n",
    "print(completion(prompt))"
   ]
  },
  {
   "cell_type": "markdown",
   "metadata": {},
   "source": [
    "**分步执行**\n"
   ]
  },
  {
   "cell_type": "code",
   "execution_count": 60,
   "metadata": {},
   "outputs": [
    {
     "name": "stdout",
     "output_type": "stream",
     "text": [
      "摘要：在我的后园，可以看见墙外有两株树，一株是枣树，还有一株也是枣树。\n",
      "翻译：私の庭で、壁の外に二本の木があります。一本は枣（ざくろ）の木で、もう一本も枣の木です。この上の夜の空は、奇妙で高く、私は人生でこんな奇妙で高い空を見たことがありません。彼は人間の世界から離れて行くように見え、人々はもう後ろ向きで見ることができません。\n"
     ]
    }
   ],
   "source": [
    "text = \"在我的后园，可以看见墙外有两株树，一株是枣树，还有一株也是枣树。\\\n",
    "这上面的夜的天空，奇怪而高，我生平没有见过这样奇怪而高的天空，他仿佛要离开人间而去，使人们仰面不再看见。\"\n",
    "\n",
    "prompt = f\"\"\"\n",
    "分步执行以下操作：\n",
    "步骤一：一句话总结```中的文字，添加前缀“摘要：”。\n",
    "步骤二：将步骤一中的摘要翻译成日语，添加前缀“翻译：”。\n",
    "\n",
    "```{text}```\n",
    "\"\"\"\n",
    "\n",
    "print(completion(prompt))"
   ]
  },
  {
   "cell_type": "markdown",
   "metadata": {},
   "source": [
    "### 提供参考文本\n",
    "\n",
    "减少大模型胡编乱造。\n"
   ]
  },
  {
   "cell_type": "markdown",
   "metadata": {},
   "source": [
    "### 任务拆解\n",
    "\n",
    "将大任务拆为小任务。\n"
   ]
  },
  {
   "cell_type": "markdown",
   "metadata": {},
   "source": [
    "### 给 GPT 时间思考\n",
    "\n",
    "依靠思维链让大模型按步推理。\n"
   ]
  },
  {
   "cell_type": "markdown",
   "metadata": {},
   "source": [
    "### 使用外部工具\n",
    "\n",
    "使用外部工具弥补或增强模型能力。\n"
   ]
  },
  {
   "cell_type": "markdown",
   "metadata": {},
   "source": [
    "### 系统测试\n",
    "\n",
    "评估模型输出。\n"
   ]
  }
 ],
 "metadata": {
  "kernelspec": {
   "display_name": ".venv",
   "language": "python",
   "name": "python3"
  },
  "language_info": {
   "codemirror_mode": {
    "name": "ipython",
    "version": 3
   },
   "file_extension": ".py",
   "mimetype": "text/x-python",
   "name": "python",
   "nbconvert_exporter": "python",
   "pygments_lexer": "ipython3",
   "version": "3.10.6"
  }
 },
 "nbformat": 4,
 "nbformat_minor": 2
}
