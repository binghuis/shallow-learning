{
 "cells": [
  {
   "cell_type": "markdown",
   "metadata": {},
   "source": [
    "# 感知器\n",
    "\n",
    "感知器是一种简化的神经元模型，感知器接收多个输入信号，每个输入信号都有对应的权重。输入信号加权求和并加上偏置（bias）与阈值进行比较，如果大于阈值，感知器被激活（输出为 1），否则不被激活（输出为 0）。\n",
    "\n",
    "> 权重：控制输入信号的重要性\n",
    "> 偏置：调整感知器被激活的容易程度\n"
   ]
  },
  {
   "cell_type": "markdown",
   "metadata": {},
   "source": [
    "> 线性空间：由直线分割成的空间\n",
    "\n",
    "> 非线性空间：由曲线分割成的空间\n"
   ]
  }
 ],
 "metadata": {
  "language_info": {
   "name": "python"
  }
 },
 "nbformat": 4,
 "nbformat_minor": 2
}
